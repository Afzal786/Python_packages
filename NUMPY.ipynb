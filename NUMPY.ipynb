{
  "nbformat": 4,
  "nbformat_minor": 0,
  "metadata": {
    "colab": {
      "name": "NUMPY.ipynb",
      "provenance": [],
      "collapsed_sections": [],
      "include_colab_link": true
    },
    "kernelspec": {
      "name": "python3",
      "display_name": "Python 3"
    }
  },
  "cells": [
    {
      "cell_type": "markdown",
      "metadata": {
        "id": "view-in-github",
        "colab_type": "text"
      },
      "source": [
        "<a href=\"https://colab.research.google.com/github/Afzal786/Python_packages/blob/master/NUMPY.ipynb\" target=\"_parent\"><img src=\"https://colab.research.google.com/assets/colab-badge.svg\" alt=\"Open In Colab\"/></a>"
      ]
    },
    {
      "cell_type": "markdown",
      "metadata": {
        "id": "-zoWn4fGoxv1",
        "colab_type": "text"
      },
      "source": [
        "# **NumPy**\n",
        "\n",
        "NumPy is the fundamental package for scientific computing with Python. It contains among other things:\n",
        "\n",
        "* a powerful N-dimensional array object\n",
        "\n",
        "* sophisticated (broadcasting) functions\n",
        "\n",
        "* tools for integrating C/C++ and Fortran code\n",
        "\n",
        "* useful linear algebra, Fourier transform, and random number capabilities\n",
        "\n",
        "Besides its obvious scientific uses, NumPy can also be used as an efficient multi-dimensional container of generic data. Arbitrary data-types can be defined. This allows NumPy to seamlessly and speedily integrate with a wide variety of databases."
      ]
    },
    {
      "cell_type": "markdown",
      "metadata": {
        "id": "DtKlnpGokTpu",
        "colab_type": "text"
      },
      "source": [
        "**The Basics**\n",
        "\n",
        "NumPy’s main object is the homogeneous multidimensional array. It is a table of elements (usually numbers), all of the same type, indexed by a tuple of positive integers. In NumPy dimensions are called axes.\n",
        "\n",
        "Importing **Numpy** package alias as np"
      ]
    },
    {
      "cell_type": "code",
      "metadata": {
        "id": "jR1MUrFVlzxo",
        "colab_type": "code",
        "colab": {}
      },
      "source": [
        "import numpy as np\n"
      ],
      "execution_count": 0,
      "outputs": []
    },
    {
      "cell_type": "markdown",
      "metadata": {
        "id": "QLKhm6dpmJs5",
        "colab_type": "text"
      },
      "source": [
        "NumPy’s array class is called ndarray. It is also known by the alias array."
      ]
    },
    {
      "cell_type": "code",
      "metadata": {
        "id": "vt33WfQMmIpf",
        "colab_type": "code",
        "outputId": "2b6a609a-8fad-48e1-8775-520dc2227965",
        "colab": {
          "base_uri": "https://localhost:8080/",
          "height": 68
        }
      },
      "source": [
        "print(type(np.array([1,2,3,4,5,'hello'])))\n",
        "\n",
        "x = np.array([[1, 2, 3], [4, 5, 6]])\n",
        "print(x)"
      ],
      "execution_count": 0,
      "outputs": [
        {
          "output_type": "stream",
          "text": [
            "<class 'numpy.ndarray'>\n",
            "[[1 2 3]\n",
            " [4 5 6]]\n"
          ],
          "name": "stdout"
        }
      ]
    },
    {
      "cell_type": "markdown",
      "metadata": {
        "id": "yvcYeSEPnViA",
        "colab_type": "text"
      },
      "source": [
        "**ndarray.ndim**\n",
        "\n",
        "the number of axes (dimensions) of the array.\n",
        "\n",
        "**ndarray.shape**\n",
        "\n",
        "the dimensions of the array. This is a tuple of integers indicating the size of the array in each dimension. For a matrix with n rows and m columns, shape will be (n,m). The length of the shape tuple is therefore the number of axes, ndim.\n",
        "\n",
        "**ndarray.size**\n",
        "\n",
        "the total number of elements of the array. This is equal to the product of the elements of shape.\n",
        "\n",
        "**ndarray.dtype**\n",
        "\n",
        "an object describing the type of the elements in the array. One can create or specify dtype’s using standard Python types. Additionally NumPy provides types of its own. numpy.int32, numpy.int16, and numpy.float64 are some examples.\n",
        "\n",
        "**ndarray.itemsize**\n",
        "\n",
        "the size in bytes of each element of the array. For example, an array of elements of type float64 has itemsize 8 (=64/8), while one of type complex32 has itemsize 4 (=32/8). It is equivalent to ndarray.dtype.itemsize.\n",
        "\n",
        "**ndarray.data**\n",
        "the buffer containing the actual elements of the array. Normally, we won’t need to use this attribute because we will access the elements in an array using indexing facilities.\n"
      ]
    },
    {
      "cell_type": "code",
      "metadata": {
        "id": "D8jcfgkfnsuA",
        "colab_type": "code",
        "outputId": "15998e6d-32ae-4a5b-e9e8-965d596c28c9",
        "colab": {
          "base_uri": "https://localhost:8080/",
          "height": 119
        }
      },
      "source": [
        "a = np.arange(15)\n",
        "print(a)\n",
        "print(\"Shape : \",str(a.shape))\n",
        "print(\"Dimension : \",str(a.ndim))\n",
        "print(\"DType : \",str(a.dtype.name))\n",
        "print(\"Itemsize : \",str(a.itemsize))\n",
        "print(\"Array Size : \",str(a.size))\n"
      ],
      "execution_count": 0,
      "outputs": [
        {
          "output_type": "stream",
          "text": [
            "[ 0  1  2  3  4  5  6  7  8  9 10 11 12 13 14]\n",
            "Shape :  (15,)\n",
            "Dimension :  1\n",
            "DType :  int64\n",
            "Itemsize :  8\n",
            "Array Size :  15\n"
          ],
          "name": "stdout"
        }
      ]
    },
    {
      "cell_type": "markdown",
      "metadata": {
        "id": "Rvm0vYipqinm",
        "colab_type": "text"
      },
      "source": [
        "**Array Creation**\n",
        "\n",
        "There are several ways to create arrays.\n",
        "\n",
        "1. You can create an array from a regular Python list or tuple using the array function. The type of the resulting array is deduced from the type of the elements in the sequences.\n",
        "\n",
        "2. You can also create array using List\n",
        "\n",
        "3. You can also create array of Complex type\n",
        "\n",
        "\n"
      ]
    },
    {
      "cell_type": "code",
      "metadata": {
        "id": "LzqX6zS2q4bW",
        "colab_type": "code",
        "outputId": "6dd8b52d-aaa9-4e3c-be0c-67f1b81d8e86",
        "colab": {
          "base_uri": "https://localhost:8080/",
          "height": 170
        }
      },
      "source": [
        "a = np.array([2,3,4])\n",
        "\n",
        "l = np.array(list([1,2,3,4,5]))\n",
        "\n",
        "c = np.array( [ [1,2], [3,4] ], dtype=complex )\n",
        "\n",
        "print(\"A : \")\n",
        "\n",
        "print(a)\n",
        "\n",
        "print(\"\\nL : \")\n",
        "\n",
        "print(l)\n",
        "\n",
        "print(\"\\nC : \")\n",
        "\n",
        "print(c)\n"
      ],
      "execution_count": 0,
      "outputs": [
        {
          "output_type": "stream",
          "text": [
            "A : \n",
            "[2 3 4]\n",
            "\n",
            "L : \n",
            "[1 2 3 4 5]\n",
            "\n",
            "C : \n",
            "[[1.+0.j 2.+0.j]\n",
            " [3.+0.j 4.+0.j]]\n"
          ],
          "name": "stdout"
        }
      ]
    },
    {
      "cell_type": "markdown",
      "metadata": {
        "id": "dtbThe6BtBYT",
        "colab_type": "text"
      },
      "source": [
        "The function zeros creates an array full of zeros, the function ones creates an array full of ones, and the function empty creates an array whose initial content is random and depends on the state of the memory. By default, the dtype of the created array is float64."
      ]
    },
    {
      "cell_type": "code",
      "metadata": {
        "id": "gd51Bm8etDyr",
        "colab_type": "code",
        "outputId": "12f3fc58-ae7f-4ec9-ba95-37895ef3ed54",
        "colab": {
          "base_uri": "https://localhost:8080/",
          "height": 306
        }
      },
      "source": [
        "a = np.zeros( (3,4) )\n",
        "b = np.ones( (2,3,4), dtype=np.int16 )                # dtype can also be specified\n",
        "c = np.empty( (2,3) )                                 # uninitialized, output may vary\n",
        "print(\"A : \")\n",
        "\n",
        "print(a)\n",
        "\n",
        "print(\"\\nB : \")\n",
        "\n",
        "print(b)\n",
        "\n",
        "print(\"\\nC : \")\n",
        "\n",
        "print(c)\n"
      ],
      "execution_count": 0,
      "outputs": [
        {
          "output_type": "stream",
          "text": [
            "A : \n",
            "[[0. 0. 0. 0.]\n",
            " [0. 0. 0. 0.]\n",
            " [0. 0. 0. 0.]]\n",
            "\n",
            "B : \n",
            "[[[1 1 1 1]\n",
            "  [1 1 1 1]\n",
            "  [1 1 1 1]]\n",
            "\n",
            " [[1 1 1 1]\n",
            "  [1 1 1 1]\n",
            "  [1 1 1 1]]]\n",
            "\n",
            "C : \n",
            "[[1.81773787e-316 2.96120023e-316 1.90658549e-316]\n",
            " [2.98428575e-316 4.96822067e-309 0.00000000e+000]]\n"
          ],
          "name": "stdout"
        }
      ]
    },
    {
      "cell_type": "markdown",
      "metadata": {
        "id": "HyaOZgEMtqM3",
        "colab_type": "text"
      },
      "source": [
        "To create sequences of numbers, NumPy provides a function analogous to range that returns arrays instead of lists.\n",
        "\n"
      ]
    },
    {
      "cell_type": "code",
      "metadata": {
        "id": "ATle3uUDttBT",
        "colab_type": "code",
        "outputId": "6bb6fda1-0264-4fbc-a10b-09b7152c8dc0",
        "colab": {
          "base_uri": "https://localhost:8080/",
          "height": 34
        }
      },
      "source": [
        "np.arange( 10, 30, 5 )\n"
      ],
      "execution_count": 0,
      "outputs": [
        {
          "output_type": "execute_result",
          "data": {
            "text/plain": [
              "array([10, 15, 20, 25])"
            ]
          },
          "metadata": {
            "tags": []
          },
          "execution_count": 20
        }
      ]
    },
    {
      "cell_type": "code",
      "metadata": {
        "id": "pDsPIz-styKq",
        "colab_type": "code",
        "outputId": "a13232ab-6e14-468c-823e-f1abb0583276",
        "colab": {
          "base_uri": "https://localhost:8080/",
          "height": 34
        }
      },
      "source": [
        "np.arange( 0, 2, 0.3 )                 # it accepts float arguments\n"
      ],
      "execution_count": 0,
      "outputs": [
        {
          "output_type": "execute_result",
          "data": {
            "text/plain": [
              "array([0. , 0.3, 0.6, 0.9, 1.2, 1.5, 1.8])"
            ]
          },
          "metadata": {
            "tags": []
          },
          "execution_count": 21
        }
      ]
    },
    {
      "cell_type": "markdown",
      "metadata": {
        "id": "gh31ktrtuAg2",
        "colab_type": "text"
      },
      "source": [
        "When arange is used with floating point arguments, it is generally not possible to predict the number of elements obtained, due to the finite floating point precision. For this reason, it is usually better to use the function linspace that receives as an argument the number of elements that we want, instead of the step:"
      ]
    },
    {
      "cell_type": "code",
      "metadata": {
        "id": "ZM6e5jPKuDZP",
        "colab_type": "code",
        "outputId": "5d4dcad2-dbe2-48b6-90dd-41bac19734e3",
        "colab": {
          "base_uri": "https://localhost:8080/",
          "height": 833
        }
      },
      "source": [
        "from numpy import pi\n",
        "a = np.linspace( 0, 2, 9 )                 # 9 numbers from 0 to 2\n",
        "x = np.linspace( 0, 2*pi, 100 )        # useful to evaluate function at lots of points\n",
        "f = np.sin(x)\n",
        "print(\"A : \")\n",
        "\n",
        "print(a)\n",
        "\n",
        "print(\"\\nX : \")\n",
        "\n",
        "print(x)\n",
        "\n",
        "print(\"\\nF : \")\n",
        "\n",
        "print(f)\n"
      ],
      "execution_count": 0,
      "outputs": [
        {
          "output_type": "stream",
          "text": [
            "A : \n",
            "[0.   0.25 0.5  0.75 1.   1.25 1.5  1.75 2.  ]\n",
            "\n",
            "X : \n",
            "[0.         0.06346652 0.12693304 0.19039955 0.25386607 0.31733259\n",
            " 0.38079911 0.44426563 0.50773215 0.57119866 0.63466518 0.6981317\n",
            " 0.76159822 0.82506474 0.88853126 0.95199777 1.01546429 1.07893081\n",
            " 1.14239733 1.20586385 1.26933037 1.33279688 1.3962634  1.45972992\n",
            " 1.52319644 1.58666296 1.65012947 1.71359599 1.77706251 1.84052903\n",
            " 1.90399555 1.96746207 2.03092858 2.0943951  2.15786162 2.22132814\n",
            " 2.28479466 2.34826118 2.41172769 2.47519421 2.53866073 2.60212725\n",
            " 2.66559377 2.72906028 2.7925268  2.85599332 2.91945984 2.98292636\n",
            " 3.04639288 3.10985939 3.17332591 3.23679243 3.30025895 3.36372547\n",
            " 3.42719199 3.4906585  3.55412502 3.61759154 3.68105806 3.74452458\n",
            " 3.8079911  3.87145761 3.93492413 3.99839065 4.06185717 4.12532369\n",
            " 4.1887902  4.25225672 4.31572324 4.37918976 4.44265628 4.5061228\n",
            " 4.56958931 4.63305583 4.69652235 4.75998887 4.82345539 4.88692191\n",
            " 4.95038842 5.01385494 5.07732146 5.14078798 5.2042545  5.26772102\n",
            " 5.33118753 5.39465405 5.45812057 5.52158709 5.58505361 5.64852012\n",
            " 5.71198664 5.77545316 5.83891968 5.9023862  5.96585272 6.02931923\n",
            " 6.09278575 6.15625227 6.21971879 6.28318531]\n",
            "\n",
            "F : \n",
            "[ 0.00000000e+00  6.34239197e-02  1.26592454e-01  1.89251244e-01\n",
            "  2.51147987e-01  3.12033446e-01  3.71662456e-01  4.29794912e-01\n",
            "  4.86196736e-01  5.40640817e-01  5.92907929e-01  6.42787610e-01\n",
            "  6.90079011e-01  7.34591709e-01  7.76146464e-01  8.14575952e-01\n",
            "  8.49725430e-01  8.81453363e-01  9.09631995e-01  9.34147860e-01\n",
            "  9.54902241e-01  9.71811568e-01  9.84807753e-01  9.93838464e-01\n",
            "  9.98867339e-01  9.99874128e-01  9.96854776e-01  9.89821442e-01\n",
            "  9.78802446e-01  9.63842159e-01  9.45000819e-01  9.22354294e-01\n",
            "  8.95993774e-01  8.66025404e-01  8.32569855e-01  7.95761841e-01\n",
            "  7.55749574e-01  7.12694171e-01  6.66769001e-01  6.18158986e-01\n",
            "  5.67059864e-01  5.13677392e-01  4.58226522e-01  4.00930535e-01\n",
            "  3.42020143e-01  2.81732557e-01  2.20310533e-01  1.58001396e-01\n",
            "  9.50560433e-02  3.17279335e-02 -3.17279335e-02 -9.50560433e-02\n",
            " -1.58001396e-01 -2.20310533e-01 -2.81732557e-01 -3.42020143e-01\n",
            " -4.00930535e-01 -4.58226522e-01 -5.13677392e-01 -5.67059864e-01\n",
            " -6.18158986e-01 -6.66769001e-01 -7.12694171e-01 -7.55749574e-01\n",
            " -7.95761841e-01 -8.32569855e-01 -8.66025404e-01 -8.95993774e-01\n",
            " -9.22354294e-01 -9.45000819e-01 -9.63842159e-01 -9.78802446e-01\n",
            " -9.89821442e-01 -9.96854776e-01 -9.99874128e-01 -9.98867339e-01\n",
            " -9.93838464e-01 -9.84807753e-01 -9.71811568e-01 -9.54902241e-01\n",
            " -9.34147860e-01 -9.09631995e-01 -8.81453363e-01 -8.49725430e-01\n",
            " -8.14575952e-01 -7.76146464e-01 -7.34591709e-01 -6.90079011e-01\n",
            " -6.42787610e-01 -5.92907929e-01 -5.40640817e-01 -4.86196736e-01\n",
            " -4.29794912e-01 -3.71662456e-01 -3.12033446e-01 -2.51147987e-01\n",
            " -1.89251244e-01 -1.26592454e-01 -6.34239197e-02 -2.44929360e-16]\n"
          ],
          "name": "stdout"
        }
      ]
    },
    {
      "cell_type": "markdown",
      "metadata": {
        "id": "6ojX3OUnun85",
        "colab_type": "text"
      },
      "source": [
        "**Printing Arrays**\n",
        "\n",
        "When you print an array, NumPy displays it in a similar way to nested lists, but with the following layout:\n",
        "\n",
        "1. the last axis is printed from left to right,\n",
        "2. the second-to-last is printed from top to bottom,\n",
        "3. the rest are also printed from top to bottom, with each slice separated from the next by an empty line.\n",
        "\n",
        "One-dimensional arrays are then printed as rows, bidimensionals as matrices and tridimensionals as lists of matrices."
      ]
    },
    {
      "cell_type": "code",
      "metadata": {
        "id": "MPIsBADSvVdG",
        "colab_type": "code",
        "outputId": "b1bfa573-e32c-4be9-c693-1e0ff225ec40",
        "colab": {
          "base_uri": "https://localhost:8080/",
          "height": 306
        }
      },
      "source": [
        "a = np.arange(6)                         # 1d array\n",
        "b = np.arange(12).reshape(4,3)           # 2d array\n",
        "c = np.arange(24).reshape(2,3,4)         # 3d array\n",
        "\n",
        "\n",
        "print(\"A : \")\n",
        "\n",
        "print(a)\n",
        "\n",
        "print(\"\\nB : \")\n",
        "\n",
        "print(b)\n",
        "\n",
        "print(\"\\nC : \")\n",
        "\n",
        "print(c)\n"
      ],
      "execution_count": 0,
      "outputs": [
        {
          "output_type": "stream",
          "text": [
            "A : \n",
            "[0 1 2 3 4 5]\n",
            "\n",
            "B : \n",
            "[[ 0  1  2]\n",
            " [ 3  4  5]\n",
            " [ 6  7  8]\n",
            " [ 9 10 11]]\n",
            "\n",
            "C : \n",
            "[[[ 0  1  2  3]\n",
            "  [ 4  5  6  7]\n",
            "  [ 8  9 10 11]]\n",
            "\n",
            " [[12 13 14 15]\n",
            "  [16 17 18 19]\n",
            "  [20 21 22 23]]]\n"
          ],
          "name": "stdout"
        }
      ]
    },
    {
      "cell_type": "markdown",
      "metadata": {
        "id": "JnlPVc9zv4I2",
        "colab_type": "text"
      },
      "source": [
        "If an array is too large to be printed, NumPy automatically skips the central part of the array and only prints the corners:"
      ]
    },
    {
      "cell_type": "code",
      "metadata": {
        "id": "OaC_fe_4v79u",
        "colab_type": "code",
        "outputId": "91f5d4a6-3d45-43e9-f55c-9b80d8dc6c0e",
        "colab": {
          "base_uri": "https://localhost:8080/",
          "height": 153
        }
      },
      "source": [
        "print(np.arange(10000))\n",
        "print(np.arange(10000).reshape(100,100))\n"
      ],
      "execution_count": 0,
      "outputs": [
        {
          "output_type": "stream",
          "text": [
            "[   0    1    2 ... 9997 9998 9999]\n",
            "[[   0    1    2 ...   97   98   99]\n",
            " [ 100  101  102 ...  197  198  199]\n",
            " [ 200  201  202 ...  297  298  299]\n",
            " ...\n",
            " [9700 9701 9702 ... 9797 9798 9799]\n",
            " [9800 9801 9802 ... 9897 9898 9899]\n",
            " [9900 9901 9902 ... 9997 9998 9999]]\n"
          ],
          "name": "stdout"
        }
      ]
    },
    {
      "cell_type": "markdown",
      "metadata": {
        "id": "GcDLquBDvyl4",
        "colab_type": "text"
      },
      "source": [
        "**Basic Operations**\n",
        "\n",
        "Arithmetic operators on arrays apply elementwise. A new array is created and filled with the result."
      ]
    },
    {
      "cell_type": "code",
      "metadata": {
        "id": "gYQiFfybvz4T",
        "colab_type": "code",
        "outputId": "5c41b887-9c24-465c-9aa5-0af9bb60fba1",
        "colab": {
          "base_uri": "https://localhost:8080/",
          "height": 306
        }
      },
      "source": [
        "a = np.array( [20,30,40,50] )\n",
        "b = np.arange( 4 )\n",
        "c = a-b\n",
        "print(\"A : \")\n",
        "\n",
        "print(a)\n",
        "\n",
        "print(\"\\nB : \")\n",
        "\n",
        "print(b)\n",
        "\n",
        "print(\"\\nC : \")\n",
        "\n",
        "print(c)\n",
        "\n",
        "print(\"\\n\")\n",
        "print(b**2)\n",
        "print(\"\\n\")\n",
        "\n",
        "print(10*np.sin(a))\n",
        "print(\"\\n\")\n",
        "print(a<35)\n"
      ],
      "execution_count": 0,
      "outputs": [
        {
          "output_type": "stream",
          "text": [
            "A : \n",
            "[20 30 40 50]\n",
            "\n",
            "B : \n",
            "[0 1 2 3]\n",
            "\n",
            "C : \n",
            "[20 29 38 47]\n",
            "\n",
            "\n",
            "[0 1 4 9]\n",
            "\n",
            "\n",
            "[ 9.12945251 -9.88031624  7.4511316  -2.62374854]\n",
            "\n",
            "\n",
            "[ True  True False False]\n"
          ],
          "name": "stdout"
        }
      ]
    },
    {
      "cell_type": "markdown",
      "metadata": {
        "id": "IoSKunF-xFBw",
        "colab_type": "text"
      },
      "source": [
        "Unlike in many matrix languages, the product operator * operates elementwise in NumPy arrays. The matrix product can be performed using the @ operator (in python >=3.5) or the dot function or method:"
      ]
    },
    {
      "cell_type": "code",
      "metadata": {
        "id": "4uMEV2CxxGjm",
        "colab_type": "code",
        "outputId": "e189d394-3d48-4ef8-8c91-81be7636a54f",
        "colab": {
          "base_uri": "https://localhost:8080/",
          "height": 170
        }
      },
      "source": [
        "A = np.array( [[1,1],\n",
        "...             [0,1]] )\n",
        "B = np.array( [[2,0],\n",
        "...             [3,4]] )\n",
        "\n",
        "print(\"elementwise product\")\n",
        "print(A * B)                       # elementwise product\n",
        "\n",
        "print(\"matrix product\")\n",
        "print(A @ B)                       # matrix product\n",
        "\n",
        "print(\"another matrix product\")\n",
        "print(A.dot(B))                    # another matrix product\n"
      ],
      "execution_count": 0,
      "outputs": [
        {
          "output_type": "stream",
          "text": [
            "elementwise product\n",
            "[[2 0]\n",
            " [0 4]]\n",
            "matrix product\n",
            "[[5 4]\n",
            " [3 4]]\n",
            "another matrix product\n",
            "[[5 4]\n",
            " [3 4]]\n"
          ],
          "name": "stdout"
        }
      ]
    },
    {
      "cell_type": "markdown",
      "metadata": {
        "id": "-WVR4JQAxx6g",
        "colab_type": "text"
      },
      "source": [
        "Some operations, such as += and *=, act in place to modify an existing array rather than create a new one."
      ]
    },
    {
      "cell_type": "code",
      "metadata": {
        "id": "e_-SQAG2xzEG",
        "colab_type": "code",
        "outputId": "e8a00ba1-9716-4423-c5a5-1ee01fa84702",
        "colab": {
          "base_uri": "https://localhost:8080/",
          "height": 51
        }
      },
      "source": [
        "a = np.ones((2,3), dtype=int)\n",
        "a *= 3\n",
        "a\n"
      ],
      "execution_count": 0,
      "outputs": [
        {
          "output_type": "execute_result",
          "data": {
            "text/plain": [
              "array([[3, 3, 3],\n",
              "       [3, 3, 3]])"
            ]
          },
          "metadata": {
            "tags": []
          },
          "execution_count": 35
        }
      ]
    },
    {
      "cell_type": "code",
      "metadata": {
        "id": "A1-u7nKVyWDk",
        "colab_type": "code",
        "colab": {}
      },
      "source": [
        "a = np.ones((2,3), dtype=int)\n",
        "a *= 3\n",
        "b = np.random.random((2,3))\n",
        "b += a\n"
      ],
      "execution_count": 0,
      "outputs": []
    },
    {
      "cell_type": "markdown",
      "metadata": {
        "id": "51fQeAutzoNW",
        "colab_type": "text"
      },
      "source": [
        "Many unary operations, such as computing the sum of all the elements in the array, are implemented as methods of the ndarray class."
      ]
    },
    {
      "cell_type": "code",
      "metadata": {
        "id": "LXhNQvjRzq6e",
        "colab_type": "code",
        "outputId": "518630d5-e1fb-4bee-a7d7-4f65e56a7694",
        "colab": {
          "base_uri": "https://localhost:8080/",
          "height": 51
        }
      },
      "source": [
        "a = np.random.random((2,3))\n",
        "a\n"
      ],
      "execution_count": 0,
      "outputs": [
        {
          "output_type": "execute_result",
          "data": {
            "text/plain": [
              "array([[0.03213956, 0.41390405, 0.79071931],\n",
              "       [0.01714967, 0.99985374, 0.66649699]])"
            ]
          },
          "metadata": {
            "tags": []
          },
          "execution_count": 42
        }
      ]
    },
    {
      "cell_type": "code",
      "metadata": {
        "id": "e_3WR4L0zzgs",
        "colab_type": "code",
        "outputId": "2df3b6e5-bfa8-4106-a72e-379e1c33b01d",
        "colab": {
          "base_uri": "https://localhost:8080/",
          "height": 34
        }
      },
      "source": [
        "\n",
        "a.max()\n"
      ],
      "execution_count": 0,
      "outputs": [
        {
          "output_type": "execute_result",
          "data": {
            "text/plain": [
              "0.9998537440783191"
            ]
          },
          "metadata": {
            "tags": []
          },
          "execution_count": 43
        }
      ]
    },
    {
      "cell_type": "code",
      "metadata": {
        "id": "nZPSW0zFz24p",
        "colab_type": "code",
        "outputId": "66d7b430-abd6-4ae6-c5a9-8524ac217eb2",
        "colab": {
          "base_uri": "https://localhost:8080/",
          "height": 34
        }
      },
      "source": [
        "a.min()\n"
      ],
      "execution_count": 0,
      "outputs": [
        {
          "output_type": "execute_result",
          "data": {
            "text/plain": [
              "0.017149668639838578"
            ]
          },
          "metadata": {
            "tags": []
          },
          "execution_count": 44
        }
      ]
    },
    {
      "cell_type": "code",
      "metadata": {
        "id": "Ku0VCieRz2qt",
        "colab_type": "code",
        "outputId": "0931c670-47de-4952-9e49-b8ad6b2ec59c",
        "colab": {
          "base_uri": "https://localhost:8080/",
          "height": 34
        }
      },
      "source": [
        "a.sum()"
      ],
      "execution_count": 0,
      "outputs": [
        {
          "output_type": "execute_result",
          "data": {
            "text/plain": [
              "2.9202633146342216"
            ]
          },
          "metadata": {
            "tags": []
          },
          "execution_count": 45
        }
      ]
    },
    {
      "cell_type": "markdown",
      "metadata": {
        "id": "UEYCbFsm0Xgp",
        "colab_type": "text"
      },
      "source": [
        "By default, these operations apply to the array as though it were a list of numbers, regardless of its shape. However, by specifying the axis parameter you can apply an operation along the specified axis of an array:"
      ]
    },
    {
      "cell_type": "code",
      "metadata": {
        "id": "80PIC3dZ0c6O",
        "colab_type": "code",
        "outputId": "76df6b86-6828-401f-881d-a5077ad26cd5",
        "colab": {
          "base_uri": "https://localhost:8080/",
          "height": 255
        }
      },
      "source": [
        ">>> b = np.arange(12).reshape(3,4)\n",
        "print(b)\n",
        "print(\"\\nsum of each column : \")\n",
        "print(b.sum(axis=0))                            # sum of each column\n",
        "print(\"\\nmin of each row\")\n",
        "print(b.min(axis=1))                            # min of each row\n",
        "print(\"\\ncumulative sum along each row\")\n",
        "print(b.cumsum(axis=1))                         # cumulative sum along each row\n"
      ],
      "execution_count": 0,
      "outputs": [
        {
          "output_type": "stream",
          "text": [
            "[[ 0  1  2  3]\n",
            " [ 4  5  6  7]\n",
            " [ 8  9 10 11]]\n",
            "\n",
            "sum of each column : \n",
            "[12 15 18 21]\n",
            "\n",
            "min of each row\n",
            "[0 4 8]\n",
            "\n",
            "cumulative sum along each row\n",
            "[[ 0  1  3  6]\n",
            " [ 4  9 15 22]\n",
            " [ 8 17 27 38]]\n"
          ],
          "name": "stdout"
        }
      ]
    },
    {
      "cell_type": "markdown",
      "metadata": {
        "id": "KuvhMPHt1LFa",
        "colab_type": "text"
      },
      "source": [
        "**Universal Functions**\n",
        "\n",
        "NumPy provides familiar mathematical functions such as sin, cos, and exp. In NumPy, these are called “universal functions”(ufunc). Within NumPy, these functions operate elementwise on an array, producing an array as output"
      ]
    },
    {
      "cell_type": "code",
      "metadata": {
        "id": "KVKqgpoj1UnV",
        "colab_type": "code",
        "outputId": "6c8a6ee0-7ae4-48f0-ba8f-c554f9999990",
        "colab": {
          "base_uri": "https://localhost:8080/",
          "height": 51
        }
      },
      "source": [
        "B = np.arange(3)\n",
        "print(B)\n",
        "print(np.exp(B))\n"
      ],
      "execution_count": 0,
      "outputs": [
        {
          "output_type": "stream",
          "text": [
            "[0 1 2]\n",
            "[1.         2.71828183 7.3890561 ]\n"
          ],
          "name": "stdout"
        }
      ]
    },
    {
      "cell_type": "code",
      "metadata": {
        "id": "MMxAXoqQ1pOk",
        "colab_type": "code",
        "outputId": "ad001dce-95ba-41a9-cb89-5d034d5dcdd9",
        "colab": {
          "base_uri": "https://localhost:8080/",
          "height": 34
        }
      },
      "source": [
        "np.sqrt(B)\n",
        "\n"
      ],
      "execution_count": 0,
      "outputs": [
        {
          "output_type": "execute_result",
          "data": {
            "text/plain": [
              "array([0.        , 1.        , 1.41421356])"
            ]
          },
          "metadata": {
            "tags": []
          },
          "execution_count": 49
        }
      ]
    },
    {
      "cell_type": "code",
      "metadata": {
        "id": "BRGoshwX1s7y",
        "colab_type": "code",
        "outputId": "33a0dfcf-2b9b-447d-c14f-a90077c9837d",
        "colab": {
          "base_uri": "https://localhost:8080/",
          "height": 34
        }
      },
      "source": [
        "C = np.array([2., -1., 4.])\n",
        "np.add(B, C)\n"
      ],
      "execution_count": 0,
      "outputs": [
        {
          "output_type": "execute_result",
          "data": {
            "text/plain": [
              "array([2., 0., 6.])"
            ]
          },
          "metadata": {
            "tags": []
          },
          "execution_count": 50
        }
      ]
    },
    {
      "cell_type": "markdown",
      "metadata": {
        "id": "dGlJfzcX2mgw",
        "colab_type": "text"
      },
      "source": [
        "Indexing, Slicing and Iterating\n",
        "One-dimensional arrays can be indexed, sliced and iterated over, much like lists and other Python sequences."
      ]
    },
    {
      "cell_type": "code",
      "metadata": {
        "id": "UEJS3Xvr2q_3",
        "colab_type": "code",
        "colab": {
          "base_uri": "https://localhost:8080/",
          "height": 85
        },
        "outputId": "a2a5eb7f-fae7-4401-c50b-07ac71daa68a"
      },
      "source": [
        "a =  np.arange(10)**2\n",
        "print(a)\n",
        "print(\"\\n\")\n",
        "print(a[0:9]) #Slicing"
      ],
      "execution_count": 5,
      "outputs": [
        {
          "output_type": "stream",
          "text": [
            "[ 0  1  4  9 16 25 36 49 64 81]\n",
            "\n",
            "\n",
            "[ 0  1  4  9 16 25 36 49 64]\n"
          ],
          "name": "stdout"
        }
      ]
    },
    {
      "cell_type": "code",
      "metadata": {
        "id": "5ZzlGTYkZkK2",
        "colab_type": "code",
        "colab": {
          "base_uri": "https://localhost:8080/",
          "height": 34
        },
        "outputId": "20683044-ed40-46a1-d696-cbb3fb9aeaac"
      },
      "source": [
        "a[:6:2] = -1000    # equivalent to a[0:6:2] = -1000; from start to position 6, exclusive, set every 2nd element to -1000\n",
        "print(a)"
      ],
      "execution_count": 7,
      "outputs": [
        {
          "output_type": "stream",
          "text": [
            "[-1000     1 -1000     9 -1000    25    36    49    64    81]\n"
          ],
          "name": "stdout"
        }
      ]
    },
    {
      "cell_type": "code",
      "metadata": {
        "id": "gfF7WJkNabKn",
        "colab_type": "code",
        "colab": {
          "base_uri": "https://localhost:8080/",
          "height": 51
        },
        "outputId": "72a44645-d6d7-4ecb-d86f-485fd4e0b75e"
      },
      "source": [
        "a[ : :-1]                                 # reversed a"
      ],
      "execution_count": 8,
      "outputs": [
        {
          "output_type": "execute_result",
          "data": {
            "text/plain": [
              "array([   81,    64,    49,    36,    25, -1000,     9, -1000,     1,\n",
              "       -1000])"
            ]
          },
          "metadata": {
            "tags": []
          },
          "execution_count": 8
        }
      ]
    },
    {
      "cell_type": "markdown",
      "metadata": {
        "id": "GnomUGPWaqnF",
        "colab_type": "text"
      },
      "source": [
        "**Multidimensional arrays** can have one index per axis. These indices are given in a tuple separated by commas:"
      ]
    },
    {
      "cell_type": "code",
      "metadata": {
        "id": "9DtwPzsaajNe",
        "colab_type": "code",
        "colab": {
          "base_uri": "https://localhost:8080/",
          "height": 102
        },
        "outputId": "dd270053-12d3-4515-e020-650cb480179a"
      },
      "source": [
        "def f(x,y):\n",
        "...     return 10*x+y\n",
        "...\n",
        "b = np.fromfunction(f,(5,4),dtype=int)\n",
        "print(b)"
      ],
      "execution_count": 10,
      "outputs": [
        {
          "output_type": "stream",
          "text": [
            "[[ 0  1  2  3]\n",
            " [10 11 12 13]\n",
            " [20 21 22 23]\n",
            " [30 31 32 33]\n",
            " [40 41 42 43]]\n"
          ],
          "name": "stdout"
        }
      ]
    },
    {
      "cell_type": "code",
      "metadata": {
        "id": "1tElmn4pfuMd",
        "colab_type": "code",
        "colab": {
          "base_uri": "https://localhost:8080/",
          "height": 51
        },
        "outputId": "abe1b74d-9670-4d94-bb07-06fb81a601db"
      },
      "source": [
        "print(b[2,3])\n",
        "\n",
        "print(b[0:5, 1])                       # each row in the second column of b\n"
      ],
      "execution_count": 14,
      "outputs": [
        {
          "output_type": "stream",
          "text": [
            "23\n",
            "[ 1 11 21 31 41]\n"
          ],
          "name": "stdout"
        }
      ]
    },
    {
      "cell_type": "code",
      "metadata": {
        "id": "HkpnqYJ_f7_z",
        "colab_type": "code",
        "colab": {
          "base_uri": "https://localhost:8080/",
          "height": 34
        },
        "outputId": "83eabd9a-b294-4a23-ed16-82f3ff95d89d"
      },
      "source": [
        "b[ : ,1]                        # equivalent to the previous example\n"
      ],
      "execution_count": 12,
      "outputs": [
        {
          "output_type": "execute_result",
          "data": {
            "text/plain": [
              "array([ 1, 11, 21, 31, 41])"
            ]
          },
          "metadata": {
            "tags": []
          },
          "execution_count": 12
        }
      ]
    },
    {
      "cell_type": "code",
      "metadata": {
        "id": "zg8ubvMvfziS",
        "colab_type": "code",
        "colab": {
          "base_uri": "https://localhost:8080/",
          "height": 51
        },
        "outputId": "db9ddc38-915b-46db-91d3-a1df4574bd4c"
      },
      "source": [
        "b[1:3, : ]                      # each column in the second and third row of b\n"
      ],
      "execution_count": 11,
      "outputs": [
        {
          "output_type": "execute_result",
          "data": {
            "text/plain": [
              "array([[10, 11, 12, 13],\n",
              "       [20, 21, 22, 23]])"
            ]
          },
          "metadata": {
            "tags": []
          },
          "execution_count": 11
        }
      ]
    },
    {
      "cell_type": "code",
      "metadata": {
        "id": "qBV84fShgWP2",
        "colab_type": "code",
        "colab": {
          "base_uri": "https://localhost:8080/",
          "height": 34
        },
        "outputId": "8a0c93ed-9c08-4b06-ceca-a600d30f215a"
      },
      "source": [
        "b[-1]                                  # the last row. Equivalent to b[-1,:]"
      ],
      "execution_count": 15,
      "outputs": [
        {
          "output_type": "execute_result",
          "data": {
            "text/plain": [
              "array([40, 41, 42, 43])"
            ]
          },
          "metadata": {
            "tags": []
          },
          "execution_count": 15
        }
      ]
    },
    {
      "cell_type": "markdown",
      "metadata": {
        "id": "9lRz-zZ4gfiy",
        "colab_type": "text"
      },
      "source": [
        "The dots (...) represent as many colons as needed to produce a complete indexing tuple. For example, if x is an array with 5 axes, then\n",
        "\n",
        "x[1 , 2 , . . . ] is equivalent to x[1 , 2 , : , : , : ] ,\n",
        "\n",
        "x[ . . . , 3] to x[ : , : , : , : , 3 ] and\n",
        "\n",
        "x[4 , . . . , 5 , : ] to x[ 4 , : , : , 5 , :]."
      ]
    },
    {
      "cell_type": "code",
      "metadata": {
        "id": "IBCIv98agl7U",
        "colab_type": "code",
        "colab": {
          "base_uri": "https://localhost:8080/",
          "height": 34
        },
        "outputId": "8da1f2ca-4075-4b12-d1d3-9bc6cd7e850a"
      },
      "source": [
        "c = np.array( [[[  0,  1,  2],               # a 3D array (two stacked 2D arrays)\n",
        "...                 [ 10, 12, 13]],\n",
        "...                [[100,101,102],\n",
        "...                 [110,112,113]]])\n",
        "c.shape\n"
      ],
      "execution_count": 16,
      "outputs": [
        {
          "output_type": "execute_result",
          "data": {
            "text/plain": [
              "(2, 2, 3)"
            ]
          },
          "metadata": {
            "tags": []
          },
          "execution_count": 16
        }
      ]
    },
    {
      "cell_type": "code",
      "metadata": {
        "id": "TpPzQ42xhK6s",
        "colab_type": "code",
        "colab": {
          "base_uri": "https://localhost:8080/",
          "height": 51
        },
        "outputId": "3ca5d4fa-3063-4e13-e7b4-8db54af8c4bc"
      },
      "source": [
        "c[1,...]                                   # same as c[1,:,:] or c[1]\n"
      ],
      "execution_count": 17,
      "outputs": [
        {
          "output_type": "execute_result",
          "data": {
            "text/plain": [
              "array([[100, 101, 102],\n",
              "       [110, 112, 113]])"
            ]
          },
          "metadata": {
            "tags": []
          },
          "execution_count": 17
        }
      ]
    },
    {
      "cell_type": "code",
      "metadata": {
        "id": "7YWuKyPihO9n",
        "colab_type": "code",
        "colab": {
          "base_uri": "https://localhost:8080/",
          "height": 51
        },
        "outputId": "3c2f2d31-8c94-4464-a935-b70b3ba2846d"
      },
      "source": [
        "c[...,2]                                   # same as c[:,:,2]\n"
      ],
      "execution_count": 18,
      "outputs": [
        {
          "output_type": "execute_result",
          "data": {
            "text/plain": [
              "array([[  2,  13],\n",
              "       [102, 113]])"
            ]
          },
          "metadata": {
            "tags": []
          },
          "execution_count": 18
        }
      ]
    },
    {
      "cell_type": "code",
      "metadata": {
        "id": "72jkQYDMhXue",
        "colab_type": "code",
        "colab": {
          "base_uri": "https://localhost:8080/",
          "height": 102
        },
        "outputId": "b628b743-8b6e-4d90-aa33-fe1c272bc9c1"
      },
      "source": [
        "for row in b:\n",
        "...     print(row)\n",
        "..."
      ],
      "execution_count": 19,
      "outputs": [
        {
          "output_type": "stream",
          "text": [
            "[0 1 2 3]\n",
            "[10 11 12 13]\n",
            "[20 21 22 23]\n",
            "[30 31 32 33]\n",
            "[40 41 42 43]\n"
          ],
          "name": "stdout"
        }
      ]
    },
    {
      "cell_type": "markdown",
      "metadata": {
        "id": "u4fiVs2Mhwyz",
        "colab_type": "text"
      },
      "source": [
        "However, if one wants to perform an operation on each element in the array, one can use the flat attribute which is an iterator over all the elements of the array:"
      ]
    },
    {
      "cell_type": "code",
      "metadata": {
        "id": "o0xmGgoKhwCm",
        "colab_type": "code",
        "colab": {
          "base_uri": "https://localhost:8080/",
          "height": 357
        },
        "outputId": "55ea45cf-c8aa-40af-b2d7-849ff40fd91d"
      },
      "source": [
        "for element in b.flat:\n",
        "...     print(element)\n",
        "..."
      ],
      "execution_count": 20,
      "outputs": [
        {
          "output_type": "stream",
          "text": [
            "0\n",
            "1\n",
            "2\n",
            "3\n",
            "10\n",
            "11\n",
            "12\n",
            "13\n",
            "20\n",
            "21\n",
            "22\n",
            "23\n",
            "30\n",
            "31\n",
            "32\n",
            "33\n",
            "40\n",
            "41\n",
            "42\n",
            "43\n"
          ],
          "name": "stdout"
        }
      ]
    },
    {
      "cell_type": "markdown",
      "metadata": {
        "id": "TxK_ksURiDZo",
        "colab_type": "text"
      },
      "source": [
        "**Shape Manipulation**\n",
        "\n",
        "An array has a shape given by the number of elements along each axis:"
      ]
    },
    {
      "cell_type": "code",
      "metadata": {
        "id": "HEGSxUayiL1N",
        "colab_type": "code",
        "colab": {
          "base_uri": "https://localhost:8080/",
          "height": 102
        },
        "outputId": "23b204be-7396-439d-ddcc-a3ac6eab2e12"
      },
      "source": [
        "a = np.floor(10*np.random.random((3,4)))\n",
        "print(a)\n",
        "print(\"Shape : \")\n",
        "a.shape"
      ],
      "execution_count": 22,
      "outputs": [
        {
          "output_type": "stream",
          "text": [
            "[[2. 2. 4. 5.]\n",
            " [4. 5. 4. 7.]\n",
            " [9. 7. 6. 0.]]\n",
            "Shape : \n"
          ],
          "name": "stdout"
        },
        {
          "output_type": "execute_result",
          "data": {
            "text/plain": [
              "(3, 4)"
            ]
          },
          "metadata": {
            "tags": []
          },
          "execution_count": 22
        }
      ]
    },
    {
      "cell_type": "markdown",
      "metadata": {
        "id": "NsFepRHGkrkY",
        "colab_type": "text"
      },
      "source": [
        "The shape of an array can be changed with various commands. Note that the following three commands all return a modified array, but do not change the original array:"
      ]
    },
    {
      "cell_type": "code",
      "metadata": {
        "id": "wqY69rkpktLj",
        "colab_type": "code",
        "colab": {
          "base_uri": "https://localhost:8080/",
          "height": 323
        },
        "outputId": "eab25e71-79e2-4d73-d708-5d218ddaa2b2"
      },
      "source": [
        "print(\"1. Flatten : \")\n",
        "print(a.ravel())  # returns the array, flattened\n",
        "print(\"2. Reshape : \")\n",
        "print(a.reshape(6,2))  # returns the array with a modified shape\n",
        "print(\"3. Transposed : \")\n",
        "print(a.T)  # returns the array, transposed\n",
        "print(\"4. Shape : \")\n",
        "print(a.T.shape)\n",
        "print(\"5. Shape : \")\n",
        "print(a.shape)\n"
      ],
      "execution_count": 28,
      "outputs": [
        {
          "output_type": "stream",
          "text": [
            "1. Flatten : \n",
            "[2. 2. 4. 5. 4. 5. 4. 7. 9. 7. 6. 0.]\n",
            "2. Reshape : \n",
            "[[2. 2.]\n",
            " [4. 5.]\n",
            " [4. 5.]\n",
            " [4. 7.]\n",
            " [9. 7.]\n",
            " [6. 0.]]\n",
            "3. Transposed : \n",
            "[[2. 4. 9.]\n",
            " [2. 5. 7.]\n",
            " [4. 4. 6.]\n",
            " [5. 7. 0.]]\n",
            "4. Shape : \n",
            "(4, 3)\n",
            "5. Shape : \n",
            "(3, 4)\n"
          ],
          "name": "stdout"
        }
      ]
    },
    {
      "cell_type": "markdown",
      "metadata": {
        "id": "TkRsPKoolxqv",
        "colab_type": "text"
      },
      "source": [
        "The reshape function returns its argument with a modified shape, whereas the ndarray.resize method modifies the array itself:"
      ]
    },
    {
      "cell_type": "code",
      "metadata": {
        "id": "1JXBk_SJl1hf",
        "colab_type": "code",
        "colab": {
          "base_uri": "https://localhost:8080/",
          "height": 136
        },
        "outputId": "7d58aa13-a0b7-4e40-c85b-11d5ee061407"
      },
      "source": [
        "a = np.arange(12).reshape(3,4)\n",
        "print(\"A : \")\n",
        "print(a)\n",
        "\n",
        "a.resize((2,6))\n",
        "print(\"After Resizing ; \")\n",
        "print(a)\n"
      ],
      "execution_count": 32,
      "outputs": [
        {
          "output_type": "stream",
          "text": [
            "A : \n",
            "[[ 0  1  2  3]\n",
            " [ 4  5  6  7]\n",
            " [ 8  9 10 11]]\n",
            "After Resizing ; \n",
            "[[ 0  1  2  3  4  5]\n",
            " [ 6  7  8  9 10 11]]\n"
          ],
          "name": "stdout"
        }
      ]
    },
    {
      "cell_type": "markdown",
      "metadata": {
        "id": "Qj8_OaZnm_dp",
        "colab_type": "text"
      },
      "source": [
        ""
      ]
    },
    {
      "cell_type": "code",
      "metadata": {
        "id": "-eajwrE1m-IT",
        "colab_type": "code",
        "colab": {
          "base_uri": "https://localhost:8080/",
          "height": 255
        },
        "outputId": "3a99cbec-2494-4056-ee95-d437b492397c"
      },
      "source": [
        "a = np.floor(10*np.random.random((2,2)))\n",
        "print(\"A : \")\n",
        "print(a)\n",
        "\n",
        "b = np.floor(10*np.random.random((2,2)))\n",
        "print(\"B : \")\n",
        "print(b)\n",
        "\n",
        "print(\"Vertical Stack : \")\n",
        "print(np.vstack((a,b)))\n",
        "\n",
        "print(\"Horizontal Stack : \")\n",
        "\n",
        "print(np.hstack((a,b)))"
      ],
      "execution_count": 33,
      "outputs": [
        {
          "output_type": "stream",
          "text": [
            "A : \n",
            "[[1. 4.]\n",
            " [1. 6.]]\n",
            "B : \n",
            "[[9. 1.]\n",
            " [3. 0.]]\n",
            "Vertical Stack : \n",
            "[[1. 4.]\n",
            " [1. 6.]\n",
            " [9. 1.]\n",
            " [3. 0.]]\n",
            "Horizontal Stack : \n",
            "[[1. 4. 9. 1.]\n",
            " [1. 6. 3. 0.]]\n"
          ],
          "name": "stdout"
        }
      ]
    },
    {
      "cell_type": "markdown",
      "metadata": {
        "id": "jjUSCmEnn0o4",
        "colab_type": "text"
      },
      "source": [
        "**Splitting one array into several smaller ones**\n",
        "\n",
        "Using hsplit, you can split an array along its horizontal axis, either by specifying the number of equally shaped arrays to return, or by specifying the columns after which the division should occur:"
      ]
    },
    {
      "cell_type": "code",
      "metadata": {
        "id": "6PA5vlg5n4J-",
        "colab_type": "code",
        "colab": {
          "base_uri": "https://localhost:8080/",
          "height": 51
        },
        "outputId": "182fa408-de83-4ff1-b6bc-73dfbbe428f2"
      },
      "source": [
        "a = np.floor(10*np.random.random((2,12)))\n",
        "a\n"
      ],
      "execution_count": 34,
      "outputs": [
        {
          "output_type": "execute_result",
          "data": {
            "text/plain": [
              "array([[5., 9., 3., 7., 8., 9., 9., 3., 7., 7., 1., 3.],\n",
              "       [6., 3., 7., 2., 4., 8., 6., 9., 7., 6., 8., 1.]])"
            ]
          },
          "metadata": {
            "tags": []
          },
          "execution_count": 34
        }
      ]
    },
    {
      "cell_type": "code",
      "metadata": {
        "id": "2WRoyWXmoBEx",
        "colab_type": "code",
        "colab": {
          "base_uri": "https://localhost:8080/",
          "height": 85
        },
        "outputId": "f7242816-f9b8-4d28-991b-f10bf0c8e420"
      },
      "source": [
        "np.hsplit(a,3)   # Split a into 3\n",
        "\n"
      ],
      "execution_count": 35,
      "outputs": [
        {
          "output_type": "execute_result",
          "data": {
            "text/plain": [
              "[array([[5., 9., 3., 7.],\n",
              "        [6., 3., 7., 2.]]), array([[8., 9., 9., 3.],\n",
              "        [4., 8., 6., 9.]]), array([[7., 7., 1., 3.],\n",
              "        [7., 6., 8., 1.]])]"
            ]
          },
          "metadata": {
            "tags": []
          },
          "execution_count": 35
        }
      ]
    },
    {
      "cell_type": "code",
      "metadata": {
        "id": "c82_nYkjoDKF",
        "colab_type": "code",
        "colab": {
          "base_uri": "https://localhost:8080/",
          "height": 85
        },
        "outputId": "18600048-b2be-4a61-bae3-e468676fbca9"
      },
      "source": [
        "np.hsplit(a,(3,4))   # Split a after the third and the fourth column"
      ],
      "execution_count": 36,
      "outputs": [
        {
          "output_type": "execute_result",
          "data": {
            "text/plain": [
              "[array([[5., 9., 3.],\n",
              "        [6., 3., 7.]]), array([[7.],\n",
              "        [2.]]), array([[8., 9., 9., 3., 7., 7., 1., 3.],\n",
              "        [4., 8., 6., 9., 7., 6., 8., 1.]])]"
            ]
          },
          "metadata": {
            "tags": []
          },
          "execution_count": 36
        }
      ]
    }
  ]
}